{
 "cells": [
  {
   "cell_type": "markdown",
   "id": "9362a89c",
   "metadata": {},
   "source": [
    "Identitas Diri       \n",
    "    Nama : Aditya Herdiansyah Putra    \n",
    "    NIM  : A11.2021.13948"
   ]
  },
  {
   "cell_type": "markdown",
   "id": "7f5d4fb9",
   "metadata": {},
   "source": [
    "# Judul"
   ]
  },
  {
   "cell_type": "markdown",
   "id": "ec19534f",
   "metadata": {},
   "source": [
    "Pengujian Kelayakan Air berdasarkan zat yang terkandung dengan metode Klasifikasi."
   ]
  },
  {
   "cell_type": "markdown",
   "id": "2c4875e3",
   "metadata": {},
   "source": [
    "# Deskripsi\n"
   ]
  },
  {
   "cell_type": "markdown",
   "id": "6bafc95d",
   "metadata": {},
   "source": [
    "Pada proyek akhir ini, saya akan melakukan pengolahan data berguna untuk menguji kelayakan air berdasarkan zat yang terkandung dengan metode klasifikasi. Pada pengolahan data ini, saya menggunakan dataset yang diambil dari salah satu website yaitu www.kagle.com dengan judul water potability.            \n",
    "\n",
    "Dataset water potability adalah kumpulan data yang berisi informasi tentang kualitas air dari berbagai sumber air, seperti sungai, danau, atau sumur. Setiap baris dalam dataset ini mewakili satu sampel air dan berisi berbagai atribut yang menggambarkan komposisi kimia air tersebut. Dataset ini biasanya mencakup berbagai parameter dan zat-zat kimia yang mempengaruhi potabilitas air, yaitu kemampuan air tersebut aman dan cocok untuk diminum oleh manusia.       \n",
    "\n",
    "Dataset ini terdiri dari beberapa atribut dan label yang terdiri dari :        \n",
    "1. **pH** (Potensi Hidrogen): pH mengukur tingkat keasaman atau alkalinitas suatu larutan.\n",
    "2. **Hardness** (Kekerasan): Kekerasan air merujuk pada kandungan mineral seperti kalsium dan magnesium.\n",
    "3. **Solids** (Padatan Terlarut): Konsentrasi padatan terlarut dalam air dapat memberikan wawasan tentang kualitas air. \n",
    "4. **Chloramines** (Kloramina): Kloramina adalah senyawa yang dibentuk ketika klorin berikatan dengan amonia dalam air. \n",
    "5. **Sulfate** (Sulfat): Konsentrasi sulfat dalam air dapat bermanfaat dalam membangun model yang berhubungan dengan kualitas air atau lingkungan yang terpengaruh oleh sulfat.\n",
    "6. **Conductivity** (Konduktivitas): Konduktivitas listrik air dapat memberikan informasi tentang jumlah ion dalam air. \n",
    "7. **Organic_carbon** (Karbon Organik): Kandungan karbon organik dalam air dapat memberikan wawasan tentang polusi organik. \n",
    "8. **Trihalomethanes** (Trihalometana): Trihalometana adalah senyawa yang terbentuk saat klorin bertindak pada materi organik dalam air.\n",
    "9. **Turbidity** (Kekeruhan): Kekeruhan air menggambarkan sejauh mana partikel padat mengganggu transparansi air.\n",
    "10. **Potability** (Kemampuan Air Minum): Ini mungkin merupakan target atau label dalam model machine learning. Potability air mengindikasikan apakah air aman untuk diminum. Model dapat dibangun untuk memprediksi potabilitas berdasarkan fitur-fitur lainnya."
   ]
  },
  {
   "cell_type": "markdown",
   "id": "a17e2e48",
   "metadata": {},
   "source": [
    "# Import Library  \n",
    " "
   ]
  },
  {
   "cell_type": "code",
   "execution_count": 188,
   "id": "50221652",
   "metadata": {},
   "outputs": [],
   "source": [
    "import pandas as pd\n",
    "from sklearn.preprocessing import StandardScaler\n",
    "from sklearn.model_selection import train_test_split\n",
    "from sklearn.metrics import accuracy_score\n",
    "from sklearn.metrics import classification_report\n",
    "from sklearn.metrics import confusion_matrix\n",
    "import seaborn as sns\n",
    "import matplotlib.pyplot as plt\n",
    "from imblearn.over_sampling import SMOTE"
   ]
  },
  {
   "cell_type": "markdown",
   "id": "2d2e93e8",
   "metadata": {},
   "source": [
    "# Import Dataset"
   ]
  },
  {
   "cell_type": "code",
   "execution_count": 189,
   "id": "da26c28a",
   "metadata": {},
   "outputs": [
    {
     "data": {
      "text/html": [
       "<div>\n",
       "<style scoped>\n",
       "    .dataframe tbody tr th:only-of-type {\n",
       "        vertical-align: middle;\n",
       "    }\n",
       "\n",
       "    .dataframe tbody tr th {\n",
       "        vertical-align: top;\n",
       "    }\n",
       "\n",
       "    .dataframe thead th {\n",
       "        text-align: right;\n",
       "    }\n",
       "</style>\n",
       "<table border=\"1\" class=\"dataframe\">\n",
       "  <thead>\n",
       "    <tr style=\"text-align: right;\">\n",
       "      <th></th>\n",
       "      <th>ph</th>\n",
       "      <th>Hardness</th>\n",
       "      <th>Solids</th>\n",
       "      <th>Chloramines</th>\n",
       "      <th>Sulfate</th>\n",
       "      <th>Conductivity</th>\n",
       "      <th>Organic_carbon</th>\n",
       "      <th>Trihalomethanes</th>\n",
       "      <th>Turbidity</th>\n",
       "      <th>Potability</th>\n",
       "    </tr>\n",
       "  </thead>\n",
       "  <tbody>\n",
       "    <tr>\n",
       "      <th>0</th>\n",
       "      <td>NaN</td>\n",
       "      <td>204.890455</td>\n",
       "      <td>20791.318981</td>\n",
       "      <td>7.300212</td>\n",
       "      <td>368.516441</td>\n",
       "      <td>564.308654</td>\n",
       "      <td>10.379783</td>\n",
       "      <td>86.990970</td>\n",
       "      <td>2.963135</td>\n",
       "      <td>0</td>\n",
       "    </tr>\n",
       "    <tr>\n",
       "      <th>1</th>\n",
       "      <td>3.716080</td>\n",
       "      <td>129.422921</td>\n",
       "      <td>18630.057858</td>\n",
       "      <td>6.635246</td>\n",
       "      <td>NaN</td>\n",
       "      <td>592.885359</td>\n",
       "      <td>15.180013</td>\n",
       "      <td>56.329076</td>\n",
       "      <td>4.500656</td>\n",
       "      <td>0</td>\n",
       "    </tr>\n",
       "    <tr>\n",
       "      <th>2</th>\n",
       "      <td>8.099124</td>\n",
       "      <td>224.236259</td>\n",
       "      <td>19909.541732</td>\n",
       "      <td>9.275884</td>\n",
       "      <td>NaN</td>\n",
       "      <td>418.606213</td>\n",
       "      <td>16.868637</td>\n",
       "      <td>66.420093</td>\n",
       "      <td>3.055934</td>\n",
       "      <td>0</td>\n",
       "    </tr>\n",
       "    <tr>\n",
       "      <th>3</th>\n",
       "      <td>8.316766</td>\n",
       "      <td>214.373394</td>\n",
       "      <td>22018.417441</td>\n",
       "      <td>8.059332</td>\n",
       "      <td>356.886136</td>\n",
       "      <td>363.266516</td>\n",
       "      <td>18.436524</td>\n",
       "      <td>100.341674</td>\n",
       "      <td>4.628771</td>\n",
       "      <td>0</td>\n",
       "    </tr>\n",
       "    <tr>\n",
       "      <th>4</th>\n",
       "      <td>9.092223</td>\n",
       "      <td>181.101509</td>\n",
       "      <td>17978.986339</td>\n",
       "      <td>6.546600</td>\n",
       "      <td>310.135738</td>\n",
       "      <td>398.410813</td>\n",
       "      <td>11.558279</td>\n",
       "      <td>31.997993</td>\n",
       "      <td>4.075075</td>\n",
       "      <td>0</td>\n",
       "    </tr>\n",
       "    <tr>\n",
       "      <th>...</th>\n",
       "      <td>...</td>\n",
       "      <td>...</td>\n",
       "      <td>...</td>\n",
       "      <td>...</td>\n",
       "      <td>...</td>\n",
       "      <td>...</td>\n",
       "      <td>...</td>\n",
       "      <td>...</td>\n",
       "      <td>...</td>\n",
       "      <td>...</td>\n",
       "    </tr>\n",
       "    <tr>\n",
       "      <th>3271</th>\n",
       "      <td>4.668102</td>\n",
       "      <td>193.681735</td>\n",
       "      <td>47580.991603</td>\n",
       "      <td>7.166639</td>\n",
       "      <td>359.948574</td>\n",
       "      <td>526.424171</td>\n",
       "      <td>13.894419</td>\n",
       "      <td>66.687695</td>\n",
       "      <td>4.435821</td>\n",
       "      <td>1</td>\n",
       "    </tr>\n",
       "    <tr>\n",
       "      <th>3272</th>\n",
       "      <td>7.808856</td>\n",
       "      <td>193.553212</td>\n",
       "      <td>17329.802160</td>\n",
       "      <td>8.061362</td>\n",
       "      <td>NaN</td>\n",
       "      <td>392.449580</td>\n",
       "      <td>19.903225</td>\n",
       "      <td>NaN</td>\n",
       "      <td>2.798243</td>\n",
       "      <td>1</td>\n",
       "    </tr>\n",
       "    <tr>\n",
       "      <th>3273</th>\n",
       "      <td>9.419510</td>\n",
       "      <td>175.762646</td>\n",
       "      <td>33155.578218</td>\n",
       "      <td>7.350233</td>\n",
       "      <td>NaN</td>\n",
       "      <td>432.044783</td>\n",
       "      <td>11.039070</td>\n",
       "      <td>69.845400</td>\n",
       "      <td>3.298875</td>\n",
       "      <td>1</td>\n",
       "    </tr>\n",
       "    <tr>\n",
       "      <th>3274</th>\n",
       "      <td>5.126763</td>\n",
       "      <td>230.603758</td>\n",
       "      <td>11983.869376</td>\n",
       "      <td>6.303357</td>\n",
       "      <td>NaN</td>\n",
       "      <td>402.883113</td>\n",
       "      <td>11.168946</td>\n",
       "      <td>77.488213</td>\n",
       "      <td>4.708658</td>\n",
       "      <td>1</td>\n",
       "    </tr>\n",
       "    <tr>\n",
       "      <th>3275</th>\n",
       "      <td>7.874671</td>\n",
       "      <td>195.102299</td>\n",
       "      <td>17404.177061</td>\n",
       "      <td>7.509306</td>\n",
       "      <td>NaN</td>\n",
       "      <td>327.459760</td>\n",
       "      <td>16.140368</td>\n",
       "      <td>78.698446</td>\n",
       "      <td>2.309149</td>\n",
       "      <td>1</td>\n",
       "    </tr>\n",
       "  </tbody>\n",
       "</table>\n",
       "<p>3276 rows × 10 columns</p>\n",
       "</div>"
      ],
      "text/plain": [
       "            ph    Hardness        Solids  Chloramines     Sulfate  \\\n",
       "0          NaN  204.890455  20791.318981     7.300212  368.516441   \n",
       "1     3.716080  129.422921  18630.057858     6.635246         NaN   \n",
       "2     8.099124  224.236259  19909.541732     9.275884         NaN   \n",
       "3     8.316766  214.373394  22018.417441     8.059332  356.886136   \n",
       "4     9.092223  181.101509  17978.986339     6.546600  310.135738   \n",
       "...        ...         ...           ...          ...         ...   \n",
       "3271  4.668102  193.681735  47580.991603     7.166639  359.948574   \n",
       "3272  7.808856  193.553212  17329.802160     8.061362         NaN   \n",
       "3273  9.419510  175.762646  33155.578218     7.350233         NaN   \n",
       "3274  5.126763  230.603758  11983.869376     6.303357         NaN   \n",
       "3275  7.874671  195.102299  17404.177061     7.509306         NaN   \n",
       "\n",
       "      Conductivity  Organic_carbon  Trihalomethanes  Turbidity  Potability  \n",
       "0       564.308654       10.379783        86.990970   2.963135           0  \n",
       "1       592.885359       15.180013        56.329076   4.500656           0  \n",
       "2       418.606213       16.868637        66.420093   3.055934           0  \n",
       "3       363.266516       18.436524       100.341674   4.628771           0  \n",
       "4       398.410813       11.558279        31.997993   4.075075           0  \n",
       "...            ...             ...              ...        ...         ...  \n",
       "3271    526.424171       13.894419        66.687695   4.435821           1  \n",
       "3272    392.449580       19.903225              NaN   2.798243           1  \n",
       "3273    432.044783       11.039070        69.845400   3.298875           1  \n",
       "3274    402.883113       11.168946        77.488213   4.708658           1  \n",
       "3275    327.459760       16.140368        78.698446   2.309149           1  \n",
       "\n",
       "[3276 rows x 10 columns]"
      ]
     },
     "execution_count": 189,
     "metadata": {},
     "output_type": "execute_result"
    }
   ],
   "source": [
    "# Membaca dataset\n",
    "data = pd.read_csv(\"water_potability.csv\")\n",
    "data"
   ]
  },
  {
   "cell_type": "markdown",
   "id": "b5858f4b",
   "metadata": {},
   "source": [
    "# Melihat Ukuran Dataset"
   ]
  },
  {
   "cell_type": "code",
   "execution_count": 190,
   "id": "0c83c2c9",
   "metadata": {},
   "outputs": [
    {
     "data": {
      "text/plain": [
       "(3276, 10)"
      ]
     },
     "execution_count": 190,
     "metadata": {},
     "output_type": "execute_result"
    }
   ],
   "source": [
    "data.shape"
   ]
  },
  {
   "cell_type": "markdown",
   "id": "d971616b",
   "metadata": {},
   "source": [
    "# Mengecek Tipe Data"
   ]
  },
  {
   "cell_type": "code",
   "execution_count": 191,
   "id": "9a9fee62",
   "metadata": {},
   "outputs": [
    {
     "name": "stdout",
     "output_type": "stream",
     "text": [
      "<class 'pandas.core.frame.DataFrame'>\n",
      "RangeIndex: 3276 entries, 0 to 3275\n",
      "Data columns (total 10 columns):\n",
      " #   Column           Non-Null Count  Dtype  \n",
      "---  ------           --------------  -----  \n",
      " 0   ph               2785 non-null   float64\n",
      " 1   Hardness         3276 non-null   float64\n",
      " 2   Solids           3276 non-null   float64\n",
      " 3   Chloramines      3276 non-null   float64\n",
      " 4   Sulfate          2495 non-null   float64\n",
      " 5   Conductivity     3276 non-null   float64\n",
      " 6   Organic_carbon   3276 non-null   float64\n",
      " 7   Trihalomethanes  3114 non-null   float64\n",
      " 8   Turbidity        3276 non-null   float64\n",
      " 9   Potability       3276 non-null   int64  \n",
      "dtypes: float64(9), int64(1)\n",
      "memory usage: 256.1 KB\n"
     ]
    }
   ],
   "source": [
    "data.info()"
   ]
  },
  {
   "cell_type": "markdown",
   "id": "1eaea2d1",
   "metadata": {},
   "source": [
    "#  Deskripsi Statistik"
   ]
  },
  {
   "cell_type": "code",
   "execution_count": 192,
   "id": "9865eb2e",
   "metadata": {
    "scrolled": false
   },
   "outputs": [
    {
     "data": {
      "text/html": [
       "<div>\n",
       "<style scoped>\n",
       "    .dataframe tbody tr th:only-of-type {\n",
       "        vertical-align: middle;\n",
       "    }\n",
       "\n",
       "    .dataframe tbody tr th {\n",
       "        vertical-align: top;\n",
       "    }\n",
       "\n",
       "    .dataframe thead th {\n",
       "        text-align: right;\n",
       "    }\n",
       "</style>\n",
       "<table border=\"1\" class=\"dataframe\">\n",
       "  <thead>\n",
       "    <tr style=\"text-align: right;\">\n",
       "      <th></th>\n",
       "      <th>ph</th>\n",
       "      <th>Hardness</th>\n",
       "      <th>Solids</th>\n",
       "      <th>Chloramines</th>\n",
       "      <th>Sulfate</th>\n",
       "      <th>Conductivity</th>\n",
       "      <th>Organic_carbon</th>\n",
       "      <th>Trihalomethanes</th>\n",
       "      <th>Turbidity</th>\n",
       "      <th>Potability</th>\n",
       "    </tr>\n",
       "  </thead>\n",
       "  <tbody>\n",
       "    <tr>\n",
       "      <th>count</th>\n",
       "      <td>2785.000000</td>\n",
       "      <td>3276.000000</td>\n",
       "      <td>3276.000000</td>\n",
       "      <td>3276.000000</td>\n",
       "      <td>2495.000000</td>\n",
       "      <td>3276.000000</td>\n",
       "      <td>3276.000000</td>\n",
       "      <td>3114.000000</td>\n",
       "      <td>3276.000000</td>\n",
       "      <td>3276.000000</td>\n",
       "    </tr>\n",
       "    <tr>\n",
       "      <th>mean</th>\n",
       "      <td>7.080795</td>\n",
       "      <td>196.369496</td>\n",
       "      <td>22014.092526</td>\n",
       "      <td>7.122277</td>\n",
       "      <td>333.775777</td>\n",
       "      <td>426.205111</td>\n",
       "      <td>14.284970</td>\n",
       "      <td>66.396293</td>\n",
       "      <td>3.966786</td>\n",
       "      <td>0.390110</td>\n",
       "    </tr>\n",
       "    <tr>\n",
       "      <th>std</th>\n",
       "      <td>1.594320</td>\n",
       "      <td>32.879761</td>\n",
       "      <td>8768.570828</td>\n",
       "      <td>1.583085</td>\n",
       "      <td>41.416840</td>\n",
       "      <td>80.824064</td>\n",
       "      <td>3.308162</td>\n",
       "      <td>16.175008</td>\n",
       "      <td>0.780382</td>\n",
       "      <td>0.487849</td>\n",
       "    </tr>\n",
       "    <tr>\n",
       "      <th>min</th>\n",
       "      <td>0.000000</td>\n",
       "      <td>47.432000</td>\n",
       "      <td>320.942611</td>\n",
       "      <td>0.352000</td>\n",
       "      <td>129.000000</td>\n",
       "      <td>181.483754</td>\n",
       "      <td>2.200000</td>\n",
       "      <td>0.738000</td>\n",
       "      <td>1.450000</td>\n",
       "      <td>0.000000</td>\n",
       "    </tr>\n",
       "    <tr>\n",
       "      <th>25%</th>\n",
       "      <td>6.093092</td>\n",
       "      <td>176.850538</td>\n",
       "      <td>15666.690297</td>\n",
       "      <td>6.127421</td>\n",
       "      <td>307.699498</td>\n",
       "      <td>365.734414</td>\n",
       "      <td>12.065801</td>\n",
       "      <td>55.844536</td>\n",
       "      <td>3.439711</td>\n",
       "      <td>0.000000</td>\n",
       "    </tr>\n",
       "    <tr>\n",
       "      <th>50%</th>\n",
       "      <td>7.036752</td>\n",
       "      <td>196.967627</td>\n",
       "      <td>20927.833607</td>\n",
       "      <td>7.130299</td>\n",
       "      <td>333.073546</td>\n",
       "      <td>421.884968</td>\n",
       "      <td>14.218338</td>\n",
       "      <td>66.622485</td>\n",
       "      <td>3.955028</td>\n",
       "      <td>0.000000</td>\n",
       "    </tr>\n",
       "    <tr>\n",
       "      <th>75%</th>\n",
       "      <td>8.062066</td>\n",
       "      <td>216.667456</td>\n",
       "      <td>27332.762127</td>\n",
       "      <td>8.114887</td>\n",
       "      <td>359.950170</td>\n",
       "      <td>481.792304</td>\n",
       "      <td>16.557652</td>\n",
       "      <td>77.337473</td>\n",
       "      <td>4.500320</td>\n",
       "      <td>1.000000</td>\n",
       "    </tr>\n",
       "    <tr>\n",
       "      <th>max</th>\n",
       "      <td>14.000000</td>\n",
       "      <td>323.124000</td>\n",
       "      <td>61227.196008</td>\n",
       "      <td>13.127000</td>\n",
       "      <td>481.030642</td>\n",
       "      <td>753.342620</td>\n",
       "      <td>28.300000</td>\n",
       "      <td>124.000000</td>\n",
       "      <td>6.739000</td>\n",
       "      <td>1.000000</td>\n",
       "    </tr>\n",
       "  </tbody>\n",
       "</table>\n",
       "</div>"
      ],
      "text/plain": [
       "                ph     Hardness        Solids  Chloramines      Sulfate  \\\n",
       "count  2785.000000  3276.000000   3276.000000  3276.000000  2495.000000   \n",
       "mean      7.080795   196.369496  22014.092526     7.122277   333.775777   \n",
       "std       1.594320    32.879761   8768.570828     1.583085    41.416840   \n",
       "min       0.000000    47.432000    320.942611     0.352000   129.000000   \n",
       "25%       6.093092   176.850538  15666.690297     6.127421   307.699498   \n",
       "50%       7.036752   196.967627  20927.833607     7.130299   333.073546   \n",
       "75%       8.062066   216.667456  27332.762127     8.114887   359.950170   \n",
       "max      14.000000   323.124000  61227.196008    13.127000   481.030642   \n",
       "\n",
       "       Conductivity  Organic_carbon  Trihalomethanes    Turbidity   Potability  \n",
       "count   3276.000000     3276.000000      3114.000000  3276.000000  3276.000000  \n",
       "mean     426.205111       14.284970        66.396293     3.966786     0.390110  \n",
       "std       80.824064        3.308162        16.175008     0.780382     0.487849  \n",
       "min      181.483754        2.200000         0.738000     1.450000     0.000000  \n",
       "25%      365.734414       12.065801        55.844536     3.439711     0.000000  \n",
       "50%      421.884968       14.218338        66.622485     3.955028     0.000000  \n",
       "75%      481.792304       16.557652        77.337473     4.500320     1.000000  \n",
       "max      753.342620       28.300000       124.000000     6.739000     1.000000  "
      ]
     },
     "execution_count": 192,
     "metadata": {},
     "output_type": "execute_result"
    }
   ],
   "source": [
    "data.describe()"
   ]
  },
  {
   "cell_type": "markdown",
   "id": "20788594",
   "metadata": {},
   "source": [
    "# Pengecekan Missing Value"
   ]
  },
  {
   "cell_type": "code",
   "execution_count": 193,
   "id": "e9f741ba",
   "metadata": {},
   "outputs": [
    {
     "data": {
      "text/plain": [
       "ph                 491\n",
       "Hardness             0\n",
       "Solids               0\n",
       "Chloramines          0\n",
       "Sulfate            781\n",
       "Conductivity         0\n",
       "Organic_carbon       0\n",
       "Trihalomethanes    162\n",
       "Turbidity            0\n",
       "Potability           0\n",
       "dtype: int64"
      ]
     },
     "execution_count": 193,
     "metadata": {},
     "output_type": "execute_result"
    }
   ],
   "source": [
    "data.isnull().sum()"
   ]
  },
  {
   "cell_type": "markdown",
   "id": "9e8091d6",
   "metadata": {},
   "source": [
    "# Pengecekan jumlah data yang duplikat"
   ]
  },
  {
   "cell_type": "code",
   "execution_count": 194,
   "id": "149c60ed",
   "metadata": {},
   "outputs": [
    {
     "data": {
      "text/html": [
       "<div>\n",
       "<style scoped>\n",
       "    .dataframe tbody tr th:only-of-type {\n",
       "        vertical-align: middle;\n",
       "    }\n",
       "\n",
       "    .dataframe tbody tr th {\n",
       "        vertical-align: top;\n",
       "    }\n",
       "\n",
       "    .dataframe thead th {\n",
       "        text-align: right;\n",
       "    }\n",
       "</style>\n",
       "<table border=\"1\" class=\"dataframe\">\n",
       "  <thead>\n",
       "    <tr style=\"text-align: right;\">\n",
       "      <th></th>\n",
       "      <th>ph</th>\n",
       "      <th>Hardness</th>\n",
       "      <th>Solids</th>\n",
       "      <th>Chloramines</th>\n",
       "      <th>Sulfate</th>\n",
       "      <th>Conductivity</th>\n",
       "      <th>Organic_carbon</th>\n",
       "      <th>Trihalomethanes</th>\n",
       "      <th>Turbidity</th>\n",
       "      <th>Potability</th>\n",
       "    </tr>\n",
       "  </thead>\n",
       "  <tbody>\n",
       "  </tbody>\n",
       "</table>\n",
       "</div>"
      ],
      "text/plain": [
       "Empty DataFrame\n",
       "Columns: [ph, Hardness, Solids, Chloramines, Sulfate, Conductivity, Organic_carbon, Trihalomethanes, Turbidity, Potability]\n",
       "Index: []"
      ]
     },
     "execution_count": 194,
     "metadata": {},
     "output_type": "execute_result"
    }
   ],
   "source": [
    "model_data[model_data.duplicated()]"
   ]
  },
  {
   "cell_type": "code",
   "execution_count": 195,
   "id": "61b85140",
   "metadata": {
    "scrolled": false
   },
   "outputs": [
    {
     "data": {
      "text/plain": [
       "0"
      ]
     },
     "execution_count": 195,
     "metadata": {},
     "output_type": "execute_result"
    }
   ],
   "source": [
    "model_data.duplicated().sum()"
   ]
  },
  {
   "cell_type": "markdown",
   "id": "157b15d0",
   "metadata": {},
   "source": [
    "# Pengecekan Jumlah Label yang akan diuji"
   ]
  },
  {
   "cell_type": "code",
   "execution_count": 196,
   "id": "1d552f79",
   "metadata": {
    "scrolled": false
   },
   "outputs": [
    {
     "name": "stdout",
     "output_type": "stream",
     "text": [
      "0    1998\n",
      "1    1278\n",
      "Name: Potability, dtype: int64\n"
     ]
    },
    {
     "data": {
      "image/png": "[encoded data removed]",
      "text/plain": [
       "<Figure size 640x480 with 1 Axes>"
      ]
     },
     "metadata": {},
     "output_type": "display_data"
    }
   ],
   "source": [
    "model_data[\"Potability\"].value_counts().plot(kind=\"bar\")\n",
    "plt.title(\" Perbandingan layak dan tidak layak pada Uji Kelayakan Air\")\n",
    "plt.xlabel(\" Indikator layak dan tidak layak \")\n",
    "plt.ylabel(\" Jumlah \")\n",
    "print(model_data[\"Potability\"].value_counts())"
   ]
  },
  {
   "cell_type": "code",
   "execution_count": 197,
   "id": "11530b0f",
   "metadata": {
    "scrolled": false
   },
   "outputs": [
    {
     "data": {
      "image/png": "[encoded data removed]",
      "text/plain": [
       "<Figure size 600x600 with 1 Axes>"
      ]
     },
     "metadata": {},
     "output_type": "display_data"
    }
   ],
   "source": [
    "# Menghitung jumlah data pada setiap kategori potabilitas\n",
    "potability_counts = model_data['Potability'].value_counts()\n",
    "\n",
    "# Membuat diagram pie untuk visualisasi distribusi potabilitas\n",
    "plt.figure(figsize=(6, 6))\n",
    "plt.pie(potability_counts, labels=['Not Potable', 'Potable'], autopct='%1.1f%%', colors=['red', 'green'])\n",
    "plt.title('Distribusi Kelayakan Air')\n",
    "plt.axis('equal')\n",
    "plt.show()"
   ]
  },
  {
   "cell_type": "markdown",
   "id": "f1d9377d",
   "metadata": {},
   "source": [
    "# Pre-Processing Data"
   ]
  },
  {
   "cell_type": "markdown",
   "id": "51847d3b",
   "metadata": {},
   "source": [
    "# Mengisikan Missing Value dengan Mean"
   ]
  },
  {
   "cell_type": "code",
   "execution_count": 198,
   "id": "3f3d92e1",
   "metadata": {
    "scrolled": false
   },
   "outputs": [
    {
     "data": {
      "text/html": [
       "<div>\n",
       "<style scoped>\n",
       "    .dataframe tbody tr th:only-of-type {\n",
       "        vertical-align: middle;\n",
       "    }\n",
       "\n",
       "    .dataframe tbody tr th {\n",
       "        vertical-align: top;\n",
       "    }\n",
       "\n",
       "    .dataframe thead th {\n",
       "        text-align: right;\n",
       "    }\n",
       "</style>\n",
       "<table border=\"1\" class=\"dataframe\">\n",
       "  <thead>\n",
       "    <tr style=\"text-align: right;\">\n",
       "      <th></th>\n",
       "      <th>ph</th>\n",
       "      <th>Hardness</th>\n",
       "      <th>Solids</th>\n",
       "      <th>Chloramines</th>\n",
       "      <th>Sulfate</th>\n",
       "      <th>Conductivity</th>\n",
       "      <th>Organic_carbon</th>\n",
       "      <th>Trihalomethanes</th>\n",
       "      <th>Turbidity</th>\n",
       "      <th>Potability</th>\n",
       "    </tr>\n",
       "  </thead>\n",
       "  <tbody>\n",
       "    <tr>\n",
       "      <th>0</th>\n",
       "      <td>7.1</td>\n",
       "      <td>204.9</td>\n",
       "      <td>20791.3</td>\n",
       "      <td>7.3</td>\n",
       "      <td>368.5</td>\n",
       "      <td>564.3</td>\n",
       "      <td>10.4</td>\n",
       "      <td>87.0</td>\n",
       "      <td>3.0</td>\n",
       "      <td>0</td>\n",
       "    </tr>\n",
       "    <tr>\n",
       "      <th>1</th>\n",
       "      <td>3.7</td>\n",
       "      <td>129.4</td>\n",
       "      <td>18630.1</td>\n",
       "      <td>6.6</td>\n",
       "      <td>333.8</td>\n",
       "      <td>592.9</td>\n",
       "      <td>15.2</td>\n",
       "      <td>56.3</td>\n",
       "      <td>4.5</td>\n",
       "      <td>0</td>\n",
       "    </tr>\n",
       "    <tr>\n",
       "      <th>2</th>\n",
       "      <td>8.1</td>\n",
       "      <td>224.2</td>\n",
       "      <td>19909.5</td>\n",
       "      <td>9.3</td>\n",
       "      <td>333.8</td>\n",
       "      <td>418.6</td>\n",
       "      <td>16.9</td>\n",
       "      <td>66.4</td>\n",
       "      <td>3.1</td>\n",
       "      <td>0</td>\n",
       "    </tr>\n",
       "    <tr>\n",
       "      <th>3</th>\n",
       "      <td>8.3</td>\n",
       "      <td>214.4</td>\n",
       "      <td>22018.4</td>\n",
       "      <td>8.1</td>\n",
       "      <td>356.9</td>\n",
       "      <td>363.3</td>\n",
       "      <td>18.4</td>\n",
       "      <td>100.3</td>\n",
       "      <td>4.6</td>\n",
       "      <td>0</td>\n",
       "    </tr>\n",
       "    <tr>\n",
       "      <th>4</th>\n",
       "      <td>9.1</td>\n",
       "      <td>181.1</td>\n",
       "      <td>17979.0</td>\n",
       "      <td>6.5</td>\n",
       "      <td>310.1</td>\n",
       "      <td>398.4</td>\n",
       "      <td>11.6</td>\n",
       "      <td>32.0</td>\n",
       "      <td>4.1</td>\n",
       "      <td>0</td>\n",
       "    </tr>\n",
       "    <tr>\n",
       "      <th>...</th>\n",
       "      <td>...</td>\n",
       "      <td>...</td>\n",
       "      <td>...</td>\n",
       "      <td>...</td>\n",
       "      <td>...</td>\n",
       "      <td>...</td>\n",
       "      <td>...</td>\n",
       "      <td>...</td>\n",
       "      <td>...</td>\n",
       "      <td>...</td>\n",
       "    </tr>\n",
       "    <tr>\n",
       "      <th>3271</th>\n",
       "      <td>4.7</td>\n",
       "      <td>193.7</td>\n",
       "      <td>47581.0</td>\n",
       "      <td>7.2</td>\n",
       "      <td>359.9</td>\n",
       "      <td>526.4</td>\n",
       "      <td>13.9</td>\n",
       "      <td>66.7</td>\n",
       "      <td>4.4</td>\n",
       "      <td>1</td>\n",
       "    </tr>\n",
       "    <tr>\n",
       "      <th>3272</th>\n",
       "      <td>7.8</td>\n",
       "      <td>193.6</td>\n",
       "      <td>17329.8</td>\n",
       "      <td>8.1</td>\n",
       "      <td>333.8</td>\n",
       "      <td>392.4</td>\n",
       "      <td>19.9</td>\n",
       "      <td>66.4</td>\n",
       "      <td>2.8</td>\n",
       "      <td>1</td>\n",
       "    </tr>\n",
       "    <tr>\n",
       "      <th>3273</th>\n",
       "      <td>9.4</td>\n",
       "      <td>175.8</td>\n",
       "      <td>33155.6</td>\n",
       "      <td>7.4</td>\n",
       "      <td>333.8</td>\n",
       "      <td>432.0</td>\n",
       "      <td>11.0</td>\n",
       "      <td>69.8</td>\n",
       "      <td>3.3</td>\n",
       "      <td>1</td>\n",
       "    </tr>\n",
       "    <tr>\n",
       "      <th>3274</th>\n",
       "      <td>5.1</td>\n",
       "      <td>230.6</td>\n",
       "      <td>11983.9</td>\n",
       "      <td>6.3</td>\n",
       "      <td>333.8</td>\n",
       "      <td>402.9</td>\n",
       "      <td>11.2</td>\n",
       "      <td>77.5</td>\n",
       "      <td>4.7</td>\n",
       "      <td>1</td>\n",
       "    </tr>\n",
       "    <tr>\n",
       "      <th>3275</th>\n",
       "      <td>7.9</td>\n",
       "      <td>195.1</td>\n",
       "      <td>17404.2</td>\n",
       "      <td>7.5</td>\n",
       "      <td>333.8</td>\n",
       "      <td>327.5</td>\n",
       "      <td>16.1</td>\n",
       "      <td>78.7</td>\n",
       "      <td>2.3</td>\n",
       "      <td>1</td>\n",
       "    </tr>\n",
       "  </tbody>\n",
       "</table>\n",
       "<p>3276 rows × 10 columns</p>\n",
       "</div>"
      ],
      "text/plain": [
       "       ph  Hardness   Solids  Chloramines  Sulfate  Conductivity  \\\n",
       "0     7.1     204.9  20791.3          7.3    368.5         564.3   \n",
       "1     3.7     129.4  18630.1          6.6    333.8         592.9   \n",
       "2     8.1     224.2  19909.5          9.3    333.8         418.6   \n",
       "3     8.3     214.4  22018.4          8.1    356.9         363.3   \n",
       "4     9.1     181.1  17979.0          6.5    310.1         398.4   \n",
       "...   ...       ...      ...          ...      ...           ...   \n",
       "3271  4.7     193.7  47581.0          7.2    359.9         526.4   \n",
       "3272  7.8     193.6  17329.8          8.1    333.8         392.4   \n",
       "3273  9.4     175.8  33155.6          7.4    333.8         432.0   \n",
       "3274  5.1     230.6  11983.9          6.3    333.8         402.9   \n",
       "3275  7.9     195.1  17404.2          7.5    333.8         327.5   \n",
       "\n",
       "      Organic_carbon  Trihalomethanes  Turbidity  Potability  \n",
       "0               10.4             87.0        3.0           0  \n",
       "1               15.2             56.3        4.5           0  \n",
       "2               16.9             66.4        3.1           0  \n",
       "3               18.4            100.3        4.6           0  \n",
       "4               11.6             32.0        4.1           0  \n",
       "...              ...              ...        ...         ...  \n",
       "3271            13.9             66.7        4.4           1  \n",
       "3272            19.9             66.4        2.8           1  \n",
       "3273            11.0             69.8        3.3           1  \n",
       "3274            11.2             77.5        4.7           1  \n",
       "3275            16.1             78.7        2.3           1  \n",
       "\n",
       "[3276 rows x 10 columns]"
      ]
     },
     "execution_count": 198,
     "metadata": {},
     "output_type": "execute_result"
    }
   ],
   "source": [
    "# Menghitung nilai mean dari setiap kolom numerik\n",
    "mean_values = data.mean()\n",
    "\n",
    "# Mengisi missing value dengan nilai mean\n",
    "data_filled = data.fillna(mean_values)\n",
    "\n",
    "model_data = data_filled.round(1)\n",
    "model_data"
   ]
  },
  {
   "cell_type": "code",
   "execution_count": 199,
   "id": "c0a6f0b4",
   "metadata": {},
   "outputs": [
    {
     "data": {
      "text/plain": [
       "ph                 0\n",
       "Hardness           0\n",
       "Solids             0\n",
       "Chloramines        0\n",
       "Sulfate            0\n",
       "Conductivity       0\n",
       "Organic_carbon     0\n",
       "Trihalomethanes    0\n",
       "Turbidity          0\n",
       "Potability         0\n",
       "dtype: int64"
      ]
     },
     "execution_count": 199,
     "metadata": {},
     "output_type": "execute_result"
    }
   ],
   "source": [
    "model_data.isnull().sum()"
   ]
  },
  {
   "cell_type": "markdown",
   "id": "05467994",
   "metadata": {},
   "source": [
    "# Pengecekan rata rata masing masing atribut berdasarkan potability"
   ]
  },
  {
   "cell_type": "code",
   "execution_count": 200,
   "id": "05793b51",
   "metadata": {},
   "outputs": [
    {
     "data": {
      "image/png": "[encoded data removed]",
      "text/plain": [
       "<Figure size 1000x1000 with 1 Axes>"
      ]
     },
     "metadata": {},
     "output_type": "display_data"
    }
   ],
   "source": [
    "# Menghitung rata-rata masing-masing atribut berdasarkan label \"Potability=1\"\n",
    "mean_potability_1 = model_data[model_data['Potability'] == 1].mean()\n",
    "# Melakukan visualisasi menggunakan line plot\n",
    "plt.figure(figsize=(10, 10))  # Ubah ukuran plot sesuai kebutuhan\n",
    "sns.lineplot(x=mean_potability_1.index, y=mean_potability_1.values, marker='o', color='b')\n",
    "plt.title('Rata-rata masing-masing atribut untuk label \"Potability=1\"')\n",
    "plt.xlabel('Atribut')\n",
    "plt.ylabel('Rata-rata')\n",
    "plt.xticks(rotation=90)\n",
    "plt.grid(True)  # Tambahkan grid pada plot\n",
    "plt.show()"
   ]
  },
  {
   "cell_type": "code",
   "execution_count": 208,
   "id": "d4897d07",
   "metadata": {},
   "outputs": [
    {
     "data": {
      "image/png": "[encoded data removed]",
      "text/plain": [
       "<Figure size 1000x1000 with 1 Axes>"
      ]
     },
     "metadata": {},
     "output_type": "display_data"
    }
   ],
   "source": [
    "# Menghitung rata-rata masing-masing atribut berdasarkan label \"Potability=0\"\n",
    "mean_potability_0 = model_data[model_data['Potability'] == 0].mean()\n",
    "\n",
    "# Melakukan visualisasi menggunakan barplot\n",
    "plt.figure(figsize=(10, 10))\n",
    "sns.barplot(x=mean_potability_0.index, y=mean_potability_0.values, palette='coolwarm')\n",
    "plt.title('Rata-rata masing-masing atribut untuk label \"Potability=0\"')\n",
    "plt.xlabel('Atribut')\n",
    "plt.ylabel('Rata-rata')\n",
    "plt.xticks(rotation=90)\n",
    "plt.show()"
   ]
  },
  {
   "cell_type": "markdown",
   "id": "b4e1db18",
   "metadata": {},
   "source": [
    "# Klasifikasi dengan Metode Naive Bayes\n",
    "Menguji keakurasian dari dataset Water_Potability.csv dengan menggunakan metode Naive Bayes yang telah di Oversampling dengan SMOTE"
   ]
  },
  {
   "cell_type": "code",
   "execution_count": 202,
   "id": "0a6dd342",
   "metadata": {},
   "outputs": [
    {
     "data": {
      "image/png": "[encoded data removed]",
      "text/plain": [
       "<Figure size 640x480 with 2 Axes>"
      ]
     },
     "metadata": {},
     "output_type": "display_data"
    },
    {
     "name": "stdout",
     "output_type": "stream",
     "text": [
      "Laporan Klasifikasi:\n",
      "               precision    recall  f1-score   support\n",
      "\n",
      " Tidak Layak       0.67      0.67      0.67       412\n",
      "       Layak       0.45      0.45      0.45       244\n",
      "\n",
      "    accuracy                           0.59       656\n",
      "   macro avg       0.56      0.56      0.56       656\n",
      "weighted avg       0.59      0.59      0.59       656\n",
      "\n",
      "Detail Akurasi : 0.5884146341463414\n"
     ]
    }
   ],
   "source": [
    "X = md.drop(\"Potability\", axis=1)\n",
    "y = md[\"Potability\"]\n",
    "\n",
    "# Membagi dataset menjadi data latih dan data uji\n",
    "X_train, X_test, y_train, y_test = train_test_split(X, y, test_size=0.2, random_state=42)\n",
    "\n",
    "# Menerapkan SMOTE untuk oversampling pada data latih\n",
    "smote = SMOTE(random_state=42)\n",
    "X_train_resampled, y_train_resampled = smote.fit_resample(X_train, y_train)\n",
    "\n",
    "# Membuat objek klasifikasi Naive Bayes\n",
    "nb_classifier = GaussianNB()\n",
    "\n",
    "# Melatih model dengan data latih yang telah dioversampling\n",
    "nb_classifier.fit(X_train_resampled, y_train_resampled)\n",
    "\n",
    "# Memprediksi label untuk data uji\n",
    "y_pred = nb_classifier.predict(X_test)\n",
    "\n",
    "# Evaluasi model\n",
    "accuracy = accuracy_score(y_test, y_pred)\n",
    "report = classification_report(y_test, y_pred)\n",
    "confusion_mat = confusion_matrix(y_test, y_pred)\n",
    "\n",
    "# Membuat visualisasi confusion matrix\n",
    "confusion = confusion_matrix(y_test, y_pred)\n",
    "\n",
    "plt.imshow(confusion, cmap='Blues', interpolation='nearest')\n",
    "plt.colorbar()\n",
    "plt.xlabel('Prediksi')\n",
    "plt.ylabel('Kelas Sebenarnya')\n",
    "plt.xticks([0, 1], ['Tidak Layak', 'Layak'])\n",
    "plt.yticks([0, 1], ['Tidak Layak', 'Layak'])\n",
    "\n",
    "# Menampilkan angka pada sel matriks\n",
    "for i in range(2):\n",
    "    for j in range(2):\n",
    "        plt.text(j, i, str(confusion[i, j]), ha='center', va='center', color='white', fontsize=15)\n",
    "\n",
    "plt.title('Confusion Matrix')\n",
    "plt.show()\n",
    "\n",
    "# Membuat visualisasi laporan klasifikasi\n",
    "report = classification_report(y_test, y_pred, target_names=['Tidak Layak', 'Layak'])\n",
    "print(\"Laporan Klasifikasi:\\n\", report)\n",
    "print (\"Detail Akurasi :\", accuracy)"
   ]
  },
  {
   "cell_type": "markdown",
   "id": "219fa989",
   "metadata": {},
   "source": [
    "# Klasifikasi dengan metode Random Forest \n",
    "Menguji keakurasian dari dataset Water_Potability.csv dengan menggunakan metode Random Forest yang telah di Oversampling dengan SMOTE"
   ]
  },
  {
   "cell_type": "code",
   "execution_count": 203,
   "id": "cd0e36f9",
   "metadata": {},
   "outputs": [
    {
     "data": {
      "image/png": "[encoded data removed]",
      "text/plain": [
       "<Figure size 640x480 with 2 Axes>"
      ]
     },
     "metadata": {},
     "output_type": "display_data"
    },
    {
     "name": "stdout",
     "output_type": "stream",
     "text": [
      "Laporan Klasifikasi:\n",
      "               precision    recall  f1-score   support\n",
      "\n",
      " Tidak Layak       0.71      0.77      0.74       412\n",
      "       Layak       0.54      0.46      0.50       244\n",
      "\n",
      "    accuracy                           0.65       656\n",
      "   macro avg       0.62      0.62      0.62       656\n",
      "weighted avg       0.65      0.65      0.65       656\n",
      "\n",
      "Detail Akurasi : 0.6539634146341463\n"
     ]
    }
   ],
   "source": [
    "from sklearn.ensemble import RandomForestClassifier\n",
    "\n",
    "X = md.drop(\"Potability\",axis=1)\n",
    "y = md[\"Potability\"]\n",
    "\n",
    "# Membagi dataset menjadi data latih dan data uji\n",
    "X_train, X_test, y_train, y_test = train_test_split(X, y, test_size=0.2, random_state=42)\n",
    "\n",
    "# Melakukan oversampling dengan SMOTE\n",
    "smote = SMOTE(random_state=42)\n",
    "X_train_resampled, y_train_resampled = smote.fit_resample(X_train, y_train)\n",
    "\n",
    "# Membuat objek klasifikasi Random Forest\n",
    "rf_classifier = RandomForestClassifier()\n",
    "\n",
    "# Melatih model dengan data latih yang telah dioversampling\n",
    "rf_classifier.fit(X_train_resampled, y_train_resampled)\n",
    "\n",
    "# Memprediksi label untuk data uji\n",
    "y_pred = rf_classifier.predict(X_test)\n",
    "\n",
    "# Evaluasi model\n",
    "accuracy = accuracy_score(y_test, y_pred)\n",
    "report = classification_report(y_test, y_pred)\n",
    "confusion_mat = confusion_matrix(y_test, y_pred)\n",
    "# Membuat visualisasi confusion matrix\n",
    "confusion = confusion_matrix(y_test, y_pred)\n",
    "\n",
    "plt.imshow(confusion, cmap='Blues', interpolation='nearest')\n",
    "plt.colorbar()\n",
    "plt.xlabel('Prediksi')\n",
    "plt.ylabel('Kelas Sebenarnya')\n",
    "plt.xticks([0, 1], ['Tidak Layak', 'Layak'])\n",
    "plt.yticks([0, 1], ['Tidak Layak', 'Layak'])\n",
    "\n",
    "# Menampilkan angka pada sel matriks\n",
    "for i in range(2):\n",
    "    for j in range(2):\n",
    "        plt.text(j, i, str(confusion[i, j]), ha='center', va='center', color='white', fontsize=15)\n",
    "\n",
    "plt.title('Confusion Matrix')\n",
    "plt.show()\n",
    "\n",
    "# Membuat visualisasi laporan klasifikasi\n",
    "report = classification_report(y_test, y_pred, target_names=['Tidak Layak', 'Layak'])\n",
    "print(\"Laporan Klasifikasi:\\n\", report)\n",
    "print (\"Detail Akurasi :\", accuracy)"
   ]
  },
  {
   "cell_type": "markdown",
   "id": "c2a45fcd",
   "metadata": {},
   "source": [
    "# Klasifikasi dengan Metode  K-Nearest Neighbor\n",
    "Menguji keakurasian dari dataset Water_Potability.csv dengan menggunakan metode KNN yang telah di Oversampling dengan SMOTE"
   ]
  },
  {
   "cell_type": "code",
   "execution_count": 204,
   "id": "2f16fcd1",
   "metadata": {
    "scrolled": false
   },
   "outputs": [
    {
     "name": "stderr",
     "output_type": "stream",
     "text": [
      "C:\\Users\\ACER\\anaconda3\\lib\\site-packages\\sklearn\\neighbors\\_classification.py:228: FutureWarning: Unlike other reduction functions (e.g. `skew`, `kurtosis`), the default behavior of `mode` typically preserves the axis it acts along. In SciPy 1.11.0, this behavior will change: the default value of `keepdims` will become False, the `axis` over which the statistic is taken will be eliminated, and the value None will no longer be accepted. Set `keepdims` to True or False to avoid this warning.\n",
      "  mode, _ = stats.mode(_y[neigh_ind, k], axis=1)\n"
     ]
    },
    {
     "data": {
      "image/png": "[encoded data removed]",
      "text/plain": [
       "<Figure size 640x480 with 2 Axes>"
      ]
     },
     "metadata": {},
     "output_type": "display_data"
    },
    {
     "name": "stdout",
     "output_type": "stream",
     "text": [
      "Laporan Klasifikasi:\n",
      "               precision    recall  f1-score   support\n",
      "\n",
      " Tidak Layak       0.70      0.64      0.67       394\n",
      "       Layak       0.68      0.74      0.71       406\n",
      "\n",
      "    accuracy                           0.69       800\n",
      "   macro avg       0.69      0.69      0.69       800\n",
      "weighted avg       0.69      0.69      0.69       800\n",
      "\n",
      "Detail Akurasi : 0.68875\n"
     ]
    }
   ],
   "source": [
    "from sklearn.neighbors import KNeighborsClassifier\n",
    "\n",
    "X = md.drop(\"Potability\",axis=1)\n",
    "y = md[\"Potability\"]\n",
    "\n",
    "# Melakukan oversampling dengan SMOTE\n",
    "smote = SMOTE(random_state=42)\n",
    "X_resampled, y_resampled = smote.fit_resample(X, y)\n",
    "\n",
    "# Membagi dataset yang telah dioversample menjadi data latih dan data uji\n",
    "X_train, X_test, y_train, y_test = train_test_split(X_resampled, y_resampled, test_size=0.2, random_state=42)\n",
    "\n",
    "# Membuat objek klasifikasi KNN\n",
    "knn_classifier = KNeighborsClassifier(n_neighbors=5)\n",
    "\n",
    "# Melatih model dengan data latih yang telah dioversample\n",
    "knn_classifier.fit(X_train, y_train)\n",
    "\n",
    "# Memprediksi label untuk data uji\n",
    "y_pred = knn_classifier.predict(X_test)\n",
    "\n",
    "# Evaluasi model\n",
    "accuracy = accuracy_score(y_test, y_pred)\n",
    "report = classification_report(y_test, y_pred)\n",
    "confusion_mat = confusion_matrix(y_test, y_pred)\n",
    "\n",
    "# Membuat visualisasi confusion matrix\n",
    "confusion = confusion_matrix(y_test, y_pred)\n",
    "\n",
    "plt.imshow(confusion, cmap='Blues', interpolation='nearest')\n",
    "plt.colorbar()\n",
    "plt.xlabel('Prediksi')\n",
    "plt.ylabel('Kelas Sebenarnya')\n",
    "plt.xticks([0, 1], ['Tidak Layak', 'Layak'])\n",
    "plt.yticks([0, 1], ['Tidak Layak', 'Layak'])\n",
    "\n",
    "# Menampilkan angka pada sel matriks\n",
    "for i in range(2):\n",
    "    for j in range(2):\n",
    "        plt.text(j, i, str(confusion[i, j]), ha='center', va='center', color='white', fontsize=15)\n",
    "\n",
    "plt.title('Confusion Matrix')\n",
    "plt.show()\n",
    "\n",
    "# Membuat visualisasi laporan klasifikasi\n",
    "report = classification_report(y_test, y_pred, target_names=['Tidak Layak', 'Layak'])\n",
    "print(\"Laporan Klasifikasi:\\n\", report)\n",
    "\n",
    "print (\"Detail Akurasi :\", accuracy)"
   ]
  },
  {
   "cell_type": "markdown",
   "id": "cd7075b6",
   "metadata": {},
   "source": [
    "# Pemilihan Metode Terbaik\n",
    "Jika kita amati pada ketiga metode yang saya gunakan untuk menguji keakurasian dari dataset yang saya gunakan yaitu water_potability.csv.            \n",
    "          \n",
    "Pada metode pertama saya menggunakan Naive Bayes dengan Oversampling yang mana menghasilkan tingkat kekurasian 0.5884146341463414\n",
    "\n",
    "Pada metode kedua saya menggunakan Decision Tree dengan Oversampling yang menghasilkan tingkat ke akurasian 0.6539634146341463     \n",
    "        \n",
    "Pada metode ketiga saya menggunakan KNN dengan Oversampling yang menghasilkan tingkat keaurasian 0.68875     \n",
    "     \n",
    "Dengan begitu, dapat dipastikan bahwa pada machine learning ini akan menggunakan metode ketiga yaitu KNN dengan Oversampling."
   ]
  },
  {
   "cell_type": "markdown",
   "id": "5a2fcb37",
   "metadata": {},
   "source": [
    "# Memprediksi Inputan Baru dengan metode KNN"
   ]
  },
  {
   "cell_type": "code",
   "execution_count": 205,
   "id": "ccf0b18e",
   "metadata": {},
   "outputs": [],
   "source": [
    "# Fungsi untuk memprediksi inputan baru\n",
    "def predict_new_input(input_data):\n",
    "    # Normalisasi input data\n",
    "    input_data = np.array(input_data).reshape(1, -1)\n",
    "    input_data = scaler.transform(input_data)\n",
    "    # Lakukan prediksi\n",
    "    prediction = knn_classifier.predict(input_data)\n",
    "    # Ubah hasil prediksi menjadi \"Layak\" atau \"Tidak Layak\"\n",
    "    result = \"Air Layak untuk Dikonsumsi\" if prediction[0] == 1 else \"Air Tidak layak untuk Dikonsumsi\"\n",
    "    return result"
   ]
  },
  {
   "cell_type": "code",
   "execution_count": 206,
   "id": "2cfa4148",
   "metadata": {
    "scrolled": true
   },
   "outputs": [
    {
     "name": "stdout",
     "output_type": "stream",
     "text": [
      "Hasil prediksi untuk input baru: Air Layak untuk Dikonsumsi\n"
     ]
    },
    {
     "name": "stderr",
     "output_type": "stream",
     "text": [
      "C:\\Users\\ACER\\anaconda3\\lib\\site-packages\\sklearn\\base.py:450: UserWarning: X does not have valid feature names, but StandardScaler was fitted with feature names\n",
      "  warnings.warn(\n",
      "C:\\Users\\ACER\\anaconda3\\lib\\site-packages\\sklearn\\base.py:450: UserWarning: X does not have valid feature names, but KNeighborsClassifier was fitted with feature names\n",
      "  warnings.warn(\n",
      "C:\\Users\\ACER\\anaconda3\\lib\\site-packages\\sklearn\\neighbors\\_classification.py:228: FutureWarning: Unlike other reduction functions (e.g. `skew`, `kurtosis`), the default behavior of `mode` typically preserves the axis it acts along. In SciPy 1.11.0, this behavior will change: the default value of `keepdims` will become False, the `axis` over which the statistic is taken will be eliminated, and the value None will no longer be accepted. Set `keepdims` to True or False to avoid this warning.\n",
      "  mode, _ = stats.mode(_y[neigh_ind, k], axis=1)\n"
     ]
    },
    {
     "data": {
      "text/plain": [
       "0.68875"
      ]
     },
     "execution_count": 206,
     "metadata": {},
     "output_type": "execute_result"
    }
   ],
   "source": [
    "# Uji coba dengan inputan data baru\n",
    "new_input = [7.1, 204.9, 20791.3, 7.3, 368.5, 564.3, 10.4, 87.0, 3.0]\n",
    "result = predict_new_input(new_input)\n",
    "print(\"Hasil prediksi untuk input baru:\", result)\n",
    "accuracy"
   ]
  },
  {
   "cell_type": "code",
   "execution_count": 207,
   "id": "ae6dd5ad",
   "metadata": {},
   "outputs": [
    {
     "name": "stdout",
     "output_type": "stream",
     "text": [
      "Hasil prediksi untuk input baru: Air Tidak layak untuk Dikonsumsi\n"
     ]
    },
    {
     "name": "stderr",
     "output_type": "stream",
     "text": [
      "C:\\Users\\ACER\\anaconda3\\lib\\site-packages\\sklearn\\base.py:450: UserWarning: X does not have valid feature names, but StandardScaler was fitted with feature names\n",
      "  warnings.warn(\n",
      "C:\\Users\\ACER\\anaconda3\\lib\\site-packages\\sklearn\\base.py:450: UserWarning: X does not have valid feature names, but KNeighborsClassifier was fitted with feature names\n",
      "  warnings.warn(\n",
      "C:\\Users\\ACER\\anaconda3\\lib\\site-packages\\sklearn\\neighbors\\_classification.py:228: FutureWarning: Unlike other reduction functions (e.g. `skew`, `kurtosis`), the default behavior of `mode` typically preserves the axis it acts along. In SciPy 1.11.0, this behavior will change: the default value of `keepdims` will become False, the `axis` over which the statistic is taken will be eliminated, and the value None will no longer be accepted. Set `keepdims` to True or False to avoid this warning.\n",
      "  mode, _ = stats.mode(_y[neigh_ind, k], axis=1)\n"
     ]
    },
    {
     "data": {
      "text/plain": [
       "0.68875"
      ]
     },
     "execution_count": 207,
     "metadata": {},
     "output_type": "execute_result"
    }
   ],
   "source": [
    "# Uji coba dengan inputan data baru\n",
    "new_input = [13, 167.4, 20457.5, 5.2, 349.9, 339.3, 6.2, 68.0, 2.0]\n",
    "result = predict_new_input(new_input)\n",
    "print(\"Hasil prediksi untuk input baru:\", result)\n",
    "accuracy"
   ]
  },
  {
   "cell_type": "markdown",
   "id": "6a6bec4b",
   "metadata": {},
   "source": [
    "# Kesimpulan \n",
    "Dari pengujian kelayakan air ini saya menggunakan dataset water_potability.csv yang diambil dari www.kagle.com. Dataset ini memiliki atribut berupa ph, Hardness, Solids, Chloramines, Sulfate, Conductivity, Organic_carbon,Trihalomethanes, Turbidity, Dan juga memiliki label yaitu Potability. Dataset ini masih terdapat beberpa data yang missing value dan kemudian perlu dilakukan pengisian data kosong tersebut dengan cara mengisikan dengan nilai mean dari masing masing atribut. Setelahnya dilakukan pengecekan untuk mengetahui keseimbangan dari label Potability. Ternyata setelah dilakukan pengecekan, dapat diketahui bahwa label dengan nilai 0 lebih tinggi dibandingkan dengan label dengan nilai 1 dengan perbandingan 1998:1278 atau 61% : 39%.  \n",
    "\n",
    "Kemudian sebab itu, perlu dilakukan suatu tahap percobaan yaitu dengan cara melakukan oversampling. Pada kasus ini, saya melakukan oversampling dengan 3 metode yang berbeda. Metode pertama yaitu Naive Bayes, kedua Random Forest, dan yang ketiga adalah K-Nearest Neighbor (KNN). Kemudian pada saya melakukan oversampling dengan menggunakan SMOTE pada setiap metode yang saya gunakan. Lalu yang selanjutnya adalah  saya mengklasifikasikan dataset dengan membagi dengan skala 0.2 sebagai data test atau 20% data tes dan 80% untuk data training.          \n",
    "              \n",
    "              \n",
    "Pada tahap klasifikasi tersebut, masing masing metode menghasilkan tingkat akurasi yang berbeda beda. Untuk penggunaan metode Naive Bayes menghasilkan akurasi **0.5884146341463414**. Untuk metode yang kedua yaitu random forest menghasilkan tingkat akurasi sebesar **0.6539634146341463**. Dan metode yang ketiga yaitu K-Nearest Neighbor (KNN) menghasilkan tingkat akurasi sebesar **0.68875**. Dari hasil masing masing pengujian tersebut, dapat dikatakan metode K-Nearest Neighbor (KNN) memiliki tingkat akurasi yang lebih tinggi dibandingkan dengan metode lain yang digunakan. Maka untuk melakukan pengujian kelayakan air saya memutuskan untuk menggunakan metode K-Nearest Neighbor (KNN).        \n",
    "\n",
    "Selanjutnya, untuk melakukan pengujian terhadap kelayakan air berdasarkan zat yang terkandung saya memasukkan fungsi untuk menguji dataset tersebut yang mana ketika saya menginputkan data baru akan diklasifikasikan dengan metode KNN untuk menghasilkan potability layak atau tidak layak. Dalam pengujian tersebut, hasil akurasi yang dihasilkan mencapai 0,69 atau 69%. Meskipun nilai tersebut masih kurang akurat, Namun data akurasi tersebut sudah memiliki peningkatan dibandingkan dengan sumber referensi jurnal yang saya dapatkan di internet. Jurnal tersebut menyebutkan pada dataset tersebut hanya memiliki akurasi pada metode K-Nearest Neighbor (KNN) sebesar 61.7% atau 0,617. "
   ]
  },
  {
   "cell_type": "markdown",
   "id": "1120677d",
   "metadata": {},
   "source": [
    "# Referensi Jurnal\n",
    "Kurra, Sai Sreeja dkk. (2022) \"WATER QUALITY PREDICTION USING MACHINE LEARNING\", 692-696. Diakses 4 Juli 2023, dari Andhra University College Of Engineering For Women, Andhra Pradesh, India.     \n",
    "       \n",
    "Astuti FD & Lenti FN. (2021) \"Implementasi SMOTE untuk mengatasi Imbalance Class pada Klasifikasi Car Evolution menggunakan K-NN\", 89-98. Diakses 11 Juli 2023, dari Informatika, STMIK AKAKOM, Yogyakarta.\n",
    "         \n",
    "Mutoffar MM dkk. (2022) \"KLASIFIKASI KUALITAS AIR SUMUR MENGGUNAKAN ALGORITMA RANDOM FOREST\", 138-146. Diakses 11 juli 2023, dari Program Studi Teknik Informatika,\n",
    "Sekolah Tinggi Teknologi Bandung\n"
   ]
  }
 ],
 "metadata": {
  "kernelspec": {
   "display_name": "Python 3 (ipykernel)",
   "language": "python",
   "name": "python3"
  },
  "language_info": {
   "codemirror_mode": {
    "name": "ipython",
    "version": 3
   },
   "file_extension": ".py",
   "mimetype": "text/x-python",
   "name": "python",
   "nbconvert_exporter": "python",
   "pygments_lexer": "ipython3",
   "version": "3.9.13"
  },
  "toc": {
   "base_numbering": 1,
   "nav_menu": {
    "height": "410px",
    "width": "670px"
   },
   "number_sections": false,
   "sideBar": false,
   "skip_h1_title": false,
   "title_cell": "Table of Contents",
   "title_sidebar": "Contents",
   "toc_cell": false,
   "toc_position": {
    "height": "100px",
    "left": "21px",
    "top": "110.806px",
    "width": "165px"
   },
   "toc_section_display": false,
   "toc_window_display": true
  },
  "varInspector": {
   "cols": {
    "lenName": 16,
    "lenType": 16,
    "lenVar": 40
   },
   "kernels_config": {
    "python": {
     "delete_cmd_postfix": "",
     "delete_cmd_prefix": "del ",
     "library": "var_list.py",
     "varRefreshCmd": "print(var_dic_list())"
    },
    "r": {
     "delete_cmd_postfix": ") ",
     "delete_cmd_prefix": "rm(",
     "library": "var_list.r",
     "varRefreshCmd": "cat(var_dic_list()) "
    }
   },
   "types_to_exclude": [
    "module",
    "function",
    "builtin_function_or_method",
    "instance",
    "_Feature"
   ],
   "window_display": false
  }
 },
 "nbformat": 4,
 "nbformat_minor": 5
}
